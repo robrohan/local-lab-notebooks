{
 "cells": [
  {
   "cell_type": "markdown",
   "id": "1b1bbfb9-f4ad-4dc0-8c9b-4a8a23fe8946",
   "metadata": {},
   "source": [
    "# Example Tensorflow with TPU"
   ]
  },
  {
   "cell_type": "code",
   "execution_count": 1,
   "id": "6b3cf12a-f4e5-45b2-85c1-eb1e34e313bd",
   "metadata": {},
   "outputs": [],
   "source": [
    "import argparse\n",
    "import time\n",
    "import numpy as np\n",
    "from PIL import Image\n",
    "from pycoral.adapters import classify\n",
    "from pycoral.adapters import common\n",
    "from pycoral.utils.dataset import read_label_file\n",
    "from pycoral.utils.edgetpu import make_interpreter"
   ]
  },
  {
   "cell_type": "code",
   "execution_count": 2,
   "id": "7562ed09-e944-41b1-a006-b9a48eb9f9e7",
   "metadata": {},
   "outputs": [],
   "source": [
    "args_labels = \"test_data/inat_bird_labels.txt\"\n",
    "args_model = \"test_data/mobilenet_v2_1.0_224_inat_bird_quant_edgetpu.tflite\"\n",
    "args_input = \"test_data/parrot.jpg\""
   ]
  },
  {
   "cell_type": "code",
   "execution_count": 3,
   "id": "df6bf808-eeb0-4316-b307-16fb5180edd5",
   "metadata": {},
   "outputs": [
    {
     "ename": "ValueError",
     "evalue": "Failed to load delegate from libedgetpu.so.1\n",
     "output_type": "error",
     "traceback": [
      "\u001b[0;31m---------------------------------------------------------------------------\u001b[0m",
      "\u001b[0;31mValueError\u001b[0m                                Traceback (most recent call last)",
      "File \u001b[0;32m/opt/conda/lib/python3.8/site-packages/tflite_runtime/interpreter.py:160\u001b[0m, in \u001b[0;36mload_delegate\u001b[0;34m(library, options)\u001b[0m\n\u001b[1;32m    159\u001b[0m \u001b[38;5;28;01mtry\u001b[39;00m:\n\u001b[0;32m--> 160\u001b[0m   delegate \u001b[38;5;241m=\u001b[39m \u001b[43mDelegate\u001b[49m\u001b[43m(\u001b[49m\u001b[43mlibrary\u001b[49m\u001b[43m,\u001b[49m\u001b[43m \u001b[49m\u001b[43moptions\u001b[49m\u001b[43m)\u001b[49m\n\u001b[1;32m    161\u001b[0m \u001b[38;5;28;01mexcept\u001b[39;00m \u001b[38;5;167;01mValueError\u001b[39;00m \u001b[38;5;28;01mas\u001b[39;00m e:\n",
      "File \u001b[0;32m/opt/conda/lib/python3.8/site-packages/tflite_runtime/interpreter.py:119\u001b[0m, in \u001b[0;36mDelegate.__init__\u001b[0;34m(self, library, options)\u001b[0m\n\u001b[1;32m    118\u001b[0m \u001b[38;5;28;01mif\u001b[39;00m \u001b[38;5;28mself\u001b[39m\u001b[38;5;241m.\u001b[39m_delegate_ptr \u001b[38;5;129;01mis\u001b[39;00m \u001b[38;5;28;01mNone\u001b[39;00m:\n\u001b[0;32m--> 119\u001b[0m   \u001b[38;5;28;01mraise\u001b[39;00m \u001b[38;5;167;01mValueError\u001b[39;00m(capture\u001b[38;5;241m.\u001b[39mmessage)\n",
      "\u001b[0;31mValueError\u001b[0m: ",
      "\nDuring handling of the above exception, another exception occurred:\n",
      "\u001b[0;31mValueError\u001b[0m                                Traceback (most recent call last)",
      "Cell \u001b[0;32mIn [3], line 3\u001b[0m\n\u001b[1;32m      1\u001b[0m labels \u001b[38;5;241m=\u001b[39m read_label_file(args_labels) \u001b[38;5;28;01mif\u001b[39;00m args_labels \u001b[38;5;28;01melse\u001b[39;00m {}\n\u001b[0;32m----> 3\u001b[0m interpreter \u001b[38;5;241m=\u001b[39m \u001b[43mmake_interpreter\u001b[49m\u001b[43m(\u001b[49m\u001b[38;5;241;43m*\u001b[39;49m\u001b[43margs_model\u001b[49m\u001b[38;5;241;43m.\u001b[39;49m\u001b[43msplit\u001b[49m\u001b[43m(\u001b[49m\u001b[38;5;124;43m'\u001b[39;49m\u001b[38;5;124;43m@\u001b[39;49m\u001b[38;5;124;43m'\u001b[39;49m\u001b[43m)\u001b[49m\u001b[43m)\u001b[49m\n\u001b[1;32m      4\u001b[0m interpreter\u001b[38;5;241m.\u001b[39mallocate_tensors()\n\u001b[1;32m      6\u001b[0m \u001b[38;5;66;03m# Model must be uint8 quantized\u001b[39;00m\n",
      "File \u001b[0;32m/opt/conda/lib/python3.8/site-packages/pycoral/utils/edgetpu.py:87\u001b[0m, in \u001b[0;36mmake_interpreter\u001b[0;34m(model_path_or_content, device, delegate)\u001b[0m\n\u001b[1;32m     85\u001b[0m   delegates \u001b[38;5;241m=\u001b[39m [delegate]\n\u001b[1;32m     86\u001b[0m \u001b[38;5;28;01melse\u001b[39;00m:\n\u001b[0;32m---> 87\u001b[0m   delegates \u001b[38;5;241m=\u001b[39m [\u001b[43mload_edgetpu_delegate\u001b[49m\u001b[43m(\u001b[49m\u001b[43m{\u001b[49m\u001b[38;5;124;43m'\u001b[39;49m\u001b[38;5;124;43mdevice\u001b[39;49m\u001b[38;5;124;43m'\u001b[39;49m\u001b[43m:\u001b[49m\u001b[43m \u001b[49m\u001b[43mdevice\u001b[49m\u001b[43m}\u001b[49m\u001b[43m \u001b[49m\u001b[38;5;28;43;01mif\u001b[39;49;00m\u001b[43m \u001b[49m\u001b[43mdevice\u001b[49m\u001b[43m \u001b[49m\u001b[38;5;28;43;01melse\u001b[39;49;00m\u001b[43m \u001b[49m\u001b[43m{\u001b[49m\u001b[43m}\u001b[49m\u001b[43m)\u001b[49m]\n\u001b[1;32m     88\u001b[0m \u001b[38;5;28;01mif\u001b[39;00m \u001b[38;5;28misinstance\u001b[39m(model_path_or_content, \u001b[38;5;28mbytes\u001b[39m):\n\u001b[1;32m     89\u001b[0m   \u001b[38;5;28;01mreturn\u001b[39;00m tflite\u001b[38;5;241m.\u001b[39mInterpreter(\n\u001b[1;32m     90\u001b[0m       model_content\u001b[38;5;241m=\u001b[39mmodel_path_or_content, experimental_delegates\u001b[38;5;241m=\u001b[39mdelegates)\n",
      "File \u001b[0;32m/opt/conda/lib/python3.8/site-packages/pycoral/utils/edgetpu.py:52\u001b[0m, in \u001b[0;36mload_edgetpu_delegate\u001b[0;34m(options)\u001b[0m\n\u001b[1;32m     41\u001b[0m \u001b[38;5;28;01mdef\u001b[39;00m \u001b[38;5;21mload_edgetpu_delegate\u001b[39m(options\u001b[38;5;241m=\u001b[39m\u001b[38;5;28;01mNone\u001b[39;00m):\n\u001b[1;32m     42\u001b[0m   \u001b[38;5;124;03m\"\"\"Loads the Edge TPU delegate with the given options.\u001b[39;00m\n\u001b[1;32m     43\u001b[0m \n\u001b[1;32m     44\u001b[0m \u001b[38;5;124;03m  Args:\u001b[39;00m\n\u001b[0;32m   (...)\u001b[0m\n\u001b[1;32m     50\u001b[0m \u001b[38;5;124;03m    The Edge TPU delegate object.\u001b[39;00m\n\u001b[1;32m     51\u001b[0m \u001b[38;5;124;03m  \"\"\"\u001b[39;00m\n\u001b[0;32m---> 52\u001b[0m   \u001b[38;5;28;01mreturn\u001b[39;00m \u001b[43mtflite\u001b[49m\u001b[38;5;241;43m.\u001b[39;49m\u001b[43mload_delegate\u001b[49m\u001b[43m(\u001b[49m\u001b[43m_EDGETPU_SHARED_LIB\u001b[49m\u001b[43m,\u001b[49m\u001b[43m \u001b[49m\u001b[43moptions\u001b[49m\u001b[43m \u001b[49m\u001b[38;5;129;43;01mor\u001b[39;49;00m\u001b[43m \u001b[49m\u001b[43m{\u001b[49m\u001b[43m}\u001b[49m\u001b[43m)\u001b[49m\n",
      "File \u001b[0;32m/opt/conda/lib/python3.8/site-packages/tflite_runtime/interpreter.py:162\u001b[0m, in \u001b[0;36mload_delegate\u001b[0;34m(library, options)\u001b[0m\n\u001b[1;32m    160\u001b[0m   delegate \u001b[38;5;241m=\u001b[39m Delegate(library, options)\n\u001b[1;32m    161\u001b[0m \u001b[38;5;28;01mexcept\u001b[39;00m \u001b[38;5;167;01mValueError\u001b[39;00m \u001b[38;5;28;01mas\u001b[39;00m e:\n\u001b[0;32m--> 162\u001b[0m   \u001b[38;5;28;01mraise\u001b[39;00m \u001b[38;5;167;01mValueError\u001b[39;00m(\u001b[38;5;124m'\u001b[39m\u001b[38;5;124mFailed to load delegate from \u001b[39m\u001b[38;5;132;01m{}\u001b[39;00m\u001b[38;5;130;01m\\n\u001b[39;00m\u001b[38;5;132;01m{}\u001b[39;00m\u001b[38;5;124m'\u001b[39m\u001b[38;5;241m.\u001b[39mformat(\n\u001b[1;32m    163\u001b[0m       library, \u001b[38;5;28mstr\u001b[39m(e)))\n\u001b[1;32m    164\u001b[0m \u001b[38;5;28;01mreturn\u001b[39;00m delegate\n",
      "\u001b[0;31mValueError\u001b[0m: Failed to load delegate from libedgetpu.so.1\n"
     ]
    }
   ],
   "source": [
    "labels = read_label_file(args_labels) if args_labels else {}\n",
    "\n",
    "interpreter = make_interpreter(*args_model.split('@'))\n",
    "interpreter.allocate_tensors()\n",
    "\n",
    "# Model must be uint8 quantized\n",
    "if common.input_details(interpreter, 'dtype') != np.uint8:\n",
    "    raise ValueError('Only support uint8 input type.')\n",
    "\n",
    "size = common.input_size(interpreter)\n",
    "image = Image.open(args_input).convert('RGB').resize(size, Image.ANTIALIAS)\n",
    "\n",
    "# Image data must go through two transforms before running inference:\n",
    "# 1. normalization: f = (input - mean) / std\n",
    "# 2. quantization: q = f / scale + zero_point\n",
    "# The following code combines the two steps as such:\n",
    "# q = (input - mean) / (std * scale) + zero_point\n",
    "# However, if std * scale equals 1, and mean - zero_point equals 0, the input\n",
    "# does not need any preprocessing (but in practice, even if the results are\n",
    "# very close to 1 and 0, it is probably okay to skip preprocessing for better\n",
    "# efficiency; we use 1e-5 below instead of absolute zero).\n",
    "params = common.input_details(interpreter, 'quantization_parameters')\n",
    "\n",
    "size = common.input_size(interpreter)\n",
    "image = Image.open(args_input).convert('RGB').resize(size, Image.ANTIALIAS)\n",
    "\n",
    "# Image data must go through two transforms before running inference:\n",
    "# 1. normalization: f = (input - mean) / std\n",
    "# 2. quantization: q = f / scale + zero_point\n",
    "# The following code combines the two steps as such:\n",
    "# q = (input - mean) / (std * scale) + zero_point\n",
    "# However, if std * scale equals 1, and mean - zero_point equals 0, the input\n",
    "# does not need any preprocessing (but in practice, even if the results are\n",
    "# very close to 1 and 0, it is probably okay to skip preprocessing for better\n",
    "# efficiency; we use 1e-5 below instead of absolute zero).\n",
    "params = common.input_details(interpreter, 'quantization_parameters')\n",
    "\n",
    "scale = params['scales']\n",
    "zero_point = params['zero_points']\n",
    "\n",
    "mean = 128.0 #args.input_mean\n",
    "std = 128.0 #args.input_std\n",
    "if abs(scale * std - 1) < 1e-5 and abs(mean - zero_point) < 1e-5:\n",
    "    # Input data does not require preprocessing.\n",
    "    common.set_input(interpreter, image)\n",
    "else:\n",
    "    # Input data requires preprocessing\n",
    "    normalized_input = (np.asarray(image) - mean) / (std * scale) + zero_point\n",
    "    np.clip(normalized_input, 0, 255, out=normalized_input)\n",
    "    common.set_input(interpreter, normalized_input.astype(np.uint8))\n",
    "\n",
    "# Run inference\n",
    "print('----INFERENCE TIME----')\n",
    "print('Note: The first inference on Edge TPU is slow because it includes',\n",
    "    'loading the model into Edge TPU memory.')\n",
    "for _ in range(1):\n",
    "    start = time.perf_counter()\n",
    "    interpreter.invoke()\n",
    "    inference_time = time.perf_counter() - start\n",
    "    classes = classify.get_classes(interpreter, 1, 0)\n",
    "    print('%.1fms' % (inference_time * 1000))\n",
    "\n",
    "print('-------RESULTS--------')\n",
    "\n",
    "for c in classes:\n",
    "    print('%s: %.5f' % (labels.get(c.id, c.id), c.score))"
   ]
  }
 ],
 "metadata": {
  "kernelspec": {
   "display_name": "Python 3 (ipykernel)",
   "language": "python",
   "name": "python3"
  },
  "language_info": {
   "codemirror_mode": {
    "name": "ipython",
    "version": 3
   },
   "file_extension": ".py",
   "mimetype": "text/x-python",
   "name": "python",
   "nbconvert_exporter": "python",
   "pygments_lexer": "ipython3",
   "version": "3.8.13"
  }
 },
 "nbformat": 4,
 "nbformat_minor": 5
}
