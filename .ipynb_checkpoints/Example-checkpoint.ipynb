{
 "cells": [
  {
   "cell_type": "markdown",
   "id": "1281055b-b1f9-47dd-b44e-2a0f3df40328",
   "metadata": {
    "tags": []
   },
   "source": [
    "# Basic Tensorflow Example"
   ]
  },
  {
   "cell_type": "markdown",
   "id": "1993dc56-4f76-4102-b4ec-81c504484473",
   "metadata": {},
   "source": [
    "[Effective Tensorflow](https://www.tensorflow.org/guide/effective_tf2)"
   ]
  },
  {
   "cell_type": "code",
   "execution_count": null,
   "id": "41d75457-5217-4402-b93e-025438a8f26d",
   "metadata": {},
   "outputs": [],
   "source": [
    "import tensorflow as tf\n",
    "msg = tf.constant('Hello, TensorFlow!')\n",
    "tf.print(msg)"
   ]
  },
  {
   "cell_type": "code",
   "execution_count": null,
   "id": "66b98086-cb3e-4b7d-ba26-b32c2656f493",
   "metadata": {},
   "outputs": [],
   "source": []
  }
 ],
 "metadata": {
  "kernelspec": {
   "display_name": "Python 3 (ipykernel)",
   "language": "python",
   "name": "python3"
  },
  "language_info": {
   "codemirror_mode": {
    "name": "ipython",
    "version": 3
   },
   "file_extension": ".py",
   "mimetype": "text/x-python",
   "name": "python",
   "nbconvert_exporter": "python",
   "pygments_lexer": "ipython3",
   "version": "3.8.13"
  }
 },
 "nbformat": 4,
 "nbformat_minor": 5
}
