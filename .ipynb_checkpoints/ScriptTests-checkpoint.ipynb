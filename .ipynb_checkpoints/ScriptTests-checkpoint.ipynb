{
 "cells": [
  {
   "cell_type": "markdown",
   "id": "83d4ef68-bee6-47d5-b268-04f34f4a6086",
   "metadata": {},
   "source": [
    "# Bash Job Scripting Tests"
   ]
  },
  {
   "cell_type": "markdown",
   "id": "dc225431-cea0-493f-8bb0-a914ec1e8d9e",
   "metadata": {},
   "source": [
    "## UI Input"
   ]
  },
  {
   "cell_type": "code",
   "execution_count": 6,
   "id": "c97ce5ee-56db-4ad6-a93e-39ab73550cae",
   "metadata": {
    "deletable": false,
    "editable": false,
    "jupyter": {
     "source_hidden": true
    },
    "tags": []
   },
   "outputs": [],
   "source": [
    "import ipywidgets as widgets"
   ]
  },
  {
   "cell_type": "code",
   "execution_count": 5,
   "id": "60decd50-f687-4a9b-b1f8-31ae4292106f",
   "metadata": {
    "deletable": false,
    "editable": false,
    "jupyter": {
     "source_hidden": true
    },
    "tags": []
   },
   "outputs": [
    {
     "data": {
      "application/vnd.jupyter.widget-view+json": {
       "model_id": "ee51b27078db4f1fb1d015546f8d48c8",
       "version_major": 2,
       "version_minor": 0
      },
      "text/plain": [
       "SelectMultiple(description='Servers:', index=(2,), options=(0, 1, 2, 3, 4, 5, 6, 7, 8, 9), rows=3, value=(2,))"
      ]
     },
     "metadata": {},
     "output_type": "display_data"
    },
    {
     "data": {
      "application/vnd.jupyter.widget-view+json": {
       "model_id": "d4385237afa54114ae31d5ee55b79f07",
       "version_major": 2,
       "version_minor": 0
      },
      "text/plain": [
       "Text(value='', description='Email:', placeholder='xxx@movio.co')"
      ]
     },
     "metadata": {},
     "output_type": "display_data"
    }
   ],
   "source": [
    "servers = widgets.SelectMultiple(\n",
    "    options=[i for i in range(10)],\n",
    "    value=[2],\n",
    "    rows=3,\n",
    "    description='Servers:'\n",
    ")\n",
    "\n",
    "mail = widgets.Text(\n",
    "    placeholder='xxx@movio.co',\n",
    "    description='Email:'\n",
    ")\n",
    "\n",
    "display(servers)\n",
    "display(mail)"
   ]
  },
  {
   "cell_type": "markdown",
   "id": "a21754bb-fa2c-49a3-b622-b73005770f0d",
   "metadata": {
    "tags": []
   },
   "source": [
    "## Run From Here"
   ]
  },
  {
   "cell_type": "code",
   "execution_count": 9,
   "id": "8a4073ea-0eaa-434f-984b-3e49ff3463e6",
   "metadata": {},
   "outputs": [
    {
     "name": "stdout",
     "output_type": "stream",
     "text": [
      "(1, 2) test@places.co\n"
     ]
    }
   ],
   "source": [
    "print(servers.value, mail.value)"
   ]
  },
  {
   "cell_type": "code",
   "execution_count": 10,
   "id": "4e044135-17ca-4734-89fa-419781ce4416",
   "metadata": {},
   "outputs": [
    {
     "name": "stdout",
     "output_type": "stream",
     "text": [
      "(1, 2) test@places.co\n"
     ]
    }
   ],
   "source": [
    "%%bash -s \"$servers.value\" \"$mail.value\"\n",
    "echo $1 $2"
   ]
  }
 ],
 "metadata": {
  "kernelspec": {
   "display_name": "Python 3 (ipykernel)",
   "language": "python",
   "name": "python3"
  },
  "language_info": {
   "codemirror_mode": {
    "name": "ipython",
    "version": 3
   },
   "file_extension": ".py",
   "mimetype": "text/x-python",
   "name": "python",
   "nbconvert_exporter": "python",
   "pygments_lexer": "ipython3",
   "version": "3.8.13"
  }
 },
 "nbformat": 4,
 "nbformat_minor": 5
}
