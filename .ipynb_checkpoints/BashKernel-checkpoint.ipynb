{
 "cells": [
  {
   "cell_type": "markdown",
   "id": "d1ba7aa5-f2aa-4f05-a0fd-c01434f43b4b",
   "metadata": {},
   "source": [
    "# Example of using the Bash kernel"
   ]
  },
  {
   "cell_type": "code",
   "execution_count": 1,
   "id": "e9a023f4-dc7f-42aa-80bf-046ea43a534c",
   "metadata": {},
   "outputs": [
    {
     "data": {
      "text/plain": [
       "'/home/jovyan/work'"
      ]
     },
     "execution_count": 1,
     "metadata": {},
     "output_type": "execute_result"
    }
   ],
   "source": [
    "pwd"
   ]
  },
  {
   "cell_type": "markdown",
   "id": "c433e7e3-057b-440d-8870-5330c286dd18",
   "metadata": {},
   "source": [
    "Here we do stuff that does:\n",
    "- thing 1\n",
    "- thing 2\n",
    "\n",
    "and [links to home page](https://robrohan.com)"
   ]
  },
  {
   "cell_type": "code",
   "execution_count": 2,
   "id": "052e9384-5d3f-4a19-8e04-03ee7d052f3a",
   "metadata": {},
   "outputs": [
    {
     "name": "stdout",
     "output_type": "stream",
     "text": [
      "total 728K\n",
      "drwxrwxrwx 4 jovyan  1000 4.0K Dec 12 17:16 \u001b[0m\u001b[34;42m.\u001b[0m/\n",
      "drwsrws--- 1 jovyan users 4.0K Dec 11 03:03 \u001b[01;34m..\u001b[0m/\n",
      "-rw-r--r-- 1 jovyan users 6.0K Dec 12 17:13 Bash.ipynb\n",
      "-rw-r--r-- 1 jovyan users 2.7K Dec 12 17:16 BashKernel.ipynb\n",
      "-rw-rw-rw- 1 jovyan users 1.1K Nov 24 08:11 ConvertTFLite.ipynb\n",
      "-rw-rw-rw- 1 jovyan users 2.3K Nov 28 18:49 Example.ipynb\n",
      "-rw-rw-rw- 1 jovyan users  11K Nov 23 18:49 Example_TPU.ipynb\n",
      "-rw-rw-rw- 1 jovyan users  15K Nov 23 18:52 Example_TTS.ipynb\n",
      "-rw-r--r-- 1 jovyan users  26K Nov 30 05:43 FFT.ipynb\n",
      "-rw-r--r-- 1 jovyan users  11K Dec  3 05:26 GPT.ipynb\n",
      "drwxr-xr-x 2 jovyan users 4.0K Dec 12 17:15 \u001b[01;34m.ipynb_checkpoints\u001b[0m/\n",
      "-rw-rw-rw- 1 jovyan users 618K Nov 24 08:15 StableDiffusion.ipynb\n",
      "drwxrwxrwx 2 jovyan  1000 4.0K Nov 22 07:19 \u001b[34;42mtest_data\u001b[0m/\n"
     ]
    }
   ],
   "source": [
    "ls -alFh"
   ]
  },
  {
   "cell_type": "code",
   "execution_count": null,
   "id": "bdae1f7b-889c-4d67-97c3-62b01694c1c8",
   "metadata": {},
   "outputs": [],
   "source": []
  }
 ],
 "metadata": {
  "kernelspec": {
   "display_name": "Python 3 (ipykernel)",
   "language": "python",
   "name": "python3"
  },
  "language_info": {
   "codemirror_mode": {
    "name": "ipython",
    "version": 3
   },
   "file_extension": ".py",
   "mimetype": "text/x-python",
   "name": "python",
   "nbconvert_exporter": "python",
   "pygments_lexer": "ipython3",
   "version": "3.8.13"
  }
 },
 "nbformat": 4,
 "nbformat_minor": 5
}
