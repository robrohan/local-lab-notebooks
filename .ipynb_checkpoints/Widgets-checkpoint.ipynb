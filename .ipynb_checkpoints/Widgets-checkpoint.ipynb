{
 "cells": [
  {
   "cell_type": "markdown",
   "id": "c213f12e-674c-411f-977a-d39f60db5ee5",
   "metadata": {
    "tags": []
   },
   "source": [
    "## UI Widgets"
   ]
  },
  {
   "cell_type": "code",
   "execution_count": 1,
   "id": "ff61a8fe-cf44-4393-9bc0-c4ce91eb6805",
   "metadata": {},
   "outputs": [],
   "source": [
    "import ipywidgets as widgets"
   ]
  },
  {
   "cell_type": "code",
   "execution_count": 2,
   "id": "ab306a7a-8fb8-4279-9cd7-a8f86cdffc38",
   "metadata": {
    "jupyter": {
     "source_hidden": true
    },
    "tags": []
   },
   "outputs": [
    {
     "data": {
      "application/vnd.jupyter.widget-view+json": {
       "model_id": "d3ae2f1263254da1a64d918704a845ab",
       "version_major": 2,
       "version_minor": 0
      },
      "text/plain": [
       "IntSlider(value=7, description='Cats:', max=10)"
      ]
     },
     "metadata": {},
     "output_type": "display_data"
    },
    {
     "data": {
      "application/vnd.jupyter.widget-view+json": {
       "model_id": "9d9ea17faf2a49d5af52e73bd6ec6f9f",
       "version_major": 2,
       "version_minor": 0
      },
      "text/plain": [
       "FloatLogSlider(value=10.0, description='Log Slider', max=10.0, min=-10.0, step=0.2)"
      ]
     },
     "metadata": {},
     "output_type": "display_data"
    }
   ],
   "source": [
    "slider = widgets.IntSlider(\n",
    " value=7, # default value\n",
    " min=0, # min value\n",
    " max=10, # max value\n",
    " step=1, # incriment size\n",
    " description='Cats:' # slider label\n",
    ")\n",
    "\n",
    "slider2 = widgets.FloatLogSlider(\n",
    " value=10, # default value\n",
    " base=10, # log base\n",
    " min=-10, # max exponent of base\n",
    " max=10, # min exponent of base\n",
    " step=0.2, # exponent step\n",
    " description='Log Slider'\n",
    ")\n",
    "\n",
    "display(slider) # display the slider\n",
    "display(slider2)"
   ]
  },
  {
   "cell_type": "code",
   "execution_count": 3,
   "id": "621a47dd-6cd8-493f-8cf5-d45e3d7cea07",
   "metadata": {},
   "outputs": [
    {
     "name": "stdout",
     "output_type": "stream",
     "text": [
      "7\n"
     ]
    }
   ],
   "source": [
    "print(slider.value)"
   ]
  },
  {
   "cell_type": "code",
   "execution_count": 4,
   "id": "60fc7816-784c-410b-a2cb-9063ce394bb9",
   "metadata": {
    "jupyter": {
     "source_hidden": true
    },
    "tags": []
   },
   "outputs": [
    {
     "data": {
      "application/vnd.jupyter.widget-view+json": {
       "model_id": "f2e30c01c6a24320b919757fabb8f3f0",
       "version_major": 2,
       "version_minor": 0
      },
      "text/plain": [
       "BoundedIntText(value=7, description='Text:', max=10)"
      ]
     },
     "metadata": {},
     "output_type": "display_data"
    },
    {
     "data": {
      "application/vnd.jupyter.widget-view+json": {
       "model_id": "7a5c2fe6bbdf44b688953fc5e47bbccb",
       "version_major": 2,
       "version_minor": 0
      },
      "text/plain": [
       "BoundedFloatText(value=7.5, description='Text:', max=10.0)"
      ]
     },
     "metadata": {},
     "output_type": "display_data"
    }
   ],
   "source": [
    "btb = widgets.BoundedIntText(\n",
    "    value=7,\n",
    "    min=0,\n",
    "    max=10,\n",
    "    description='Text:'\n",
    ")\n",
    "\n",
    "display(btb)\n",
    "\n",
    "# BoundedFloatText\n",
    "\n",
    "btb2 = widgets.BoundedFloatText(\n",
    "    value=7.5,\n",
    "    min=0,\n",
    "    max=10.0,\n",
    "    description='Text:'\n",
    ")\n",
    "display(btb2)"
   ]
  },
  {
   "cell_type": "code",
   "execution_count": 5,
   "id": "a112a48a-14da-4b74-8b85-5376f9334da3",
   "metadata": {
    "jupyter": {
     "source_hidden": true
    },
    "tags": []
   },
   "outputs": [
    {
     "data": {
      "application/vnd.jupyter.widget-view+json": {
       "model_id": "dbf01a5bb6c543659b1902402fad47c8",
       "version_major": 2,
       "version_minor": 0
      },
      "text/plain": [
       "Text(value='', description='Name:', placeholder='Enter you name')"
      ]
     },
     "metadata": {},
     "output_type": "display_data"
    }
   ],
   "source": [
    "txtsl = widgets.Text(\n",
    "    placeholder='Enter you name',\n",
    "    description='Name:'\n",
    ")\n",
    "\n",
    "display(txtsl)"
   ]
  },
  {
   "cell_type": "code",
   "execution_count": 6,
   "id": "755aac70-27ea-4f7a-8b52-659021976c94",
   "metadata": {
    "jupyter": {
     "source_hidden": true
    },
    "tags": []
   },
   "outputs": [
    {
     "data": {
      "application/vnd.jupyter.widget-view+json": {
       "model_id": "bf7f2853f8bf486db25c0e51607b93b6",
       "version_major": 2,
       "version_minor": 0
      },
      "text/plain": [
       "ToggleButton(value=False, button_style='success', description='Cats?', icon='check', tooltip='Description')"
      ]
     },
     "metadata": {},
     "output_type": "display_data"
    },
    {
     "data": {
      "application/vnd.jupyter.widget-view+json": {
       "model_id": "fbf90d317995455aa1d053c26fc8dde3",
       "version_major": 2,
       "version_minor": 0
      },
      "text/plain": [
       "Checkbox(value=False, description='Click Me', indent=False)"
      ]
     },
     "metadata": {},
     "output_type": "display_data"
    }
   ],
   "source": [
    "chk = widgets.ToggleButton(\n",
    "    value=False,\n",
    "    description='Cats?',\n",
    "    disabled=False,\n",
    "    button_style='success',\n",
    "    tooltip='Description',\n",
    "    icon='check'\n",
    ")\n",
    "\n",
    "display(chk)\n",
    "\n",
    "# In another cellprint(chk.value)\n",
    "\n",
    "chkbox = widgets.Checkbox(\n",
    "    value=False,\n",
    "    description='Click Me',\n",
    "    disabled=False,\n",
    "    indent=False # Indents the checkbox by 1 level\n",
    ")\n",
    "display(chkbox)\n"
   ]
  },
  {
   "cell_type": "code",
   "execution_count": 7,
   "id": "d4c6eec4-12dc-4229-bfee-9a6eabf27111",
   "metadata": {
    "jupyter": {
     "source_hidden": true
    },
    "tags": []
   },
   "outputs": [
    {
     "data": {
      "application/vnd.jupyter.widget-view+json": {
       "model_id": "774aa20072db4218ba5a4f84a214f07f",
       "version_major": 2,
       "version_minor": 0
      },
      "text/plain": [
       "Select(description='Unit:', index=1, options=('km', 'm', 'cm', 'mm'), rows=3, value='m')"
      ]
     },
     "metadata": {},
     "output_type": "display_data"
    },
    {
     "data": {
      "application/vnd.jupyter.widget-view+json": {
       "model_id": "e96ee034924943fcb5b31940d5f41538",
       "version_major": 2,
       "version_minor": 0
      },
      "text/plain": [
       "Dropdown(description='Number:', index=2, options=(0, 1, 2, 3, 4, 5, 6, 7, 8, 9), value=2)"
      ]
     },
     "metadata": {},
     "output_type": "display_data"
    }
   ],
   "source": [
    "sel = widgets.Select(\n",
    "    options=['km', 'm', 'cm','mm'],\n",
    "    value='m',\n",
    "    rows=3,\n",
    "    description='Unit:'\n",
    ")\n",
    "\n",
    "display(sel)\n",
    "\n",
    "dropD = widgets.Dropdown(\n",
    "    options=[i for i in range(10)],\n",
    "    value=2,\n",
    "    description='Number:',\n",
    "    disabled=False,\n",
    ")\n",
    "\n",
    "display(dropD)"
   ]
  },
  {
   "cell_type": "code",
   "execution_count": 8,
   "id": "bcc1307b-6571-4665-a6ec-59387a8318c0",
   "metadata": {
    "jupyter": {
     "source_hidden": true
    },
    "tags": []
   },
   "outputs": [
    {
     "data": {
      "application/vnd.jupyter.widget-view+json": {
       "model_id": "5685845f54084d328853bb5666aa4406",
       "version_major": 2,
       "version_minor": 0
      },
      "text/plain": [
       "DatePicker(value=None, description='Pick a Date', step=1)"
      ]
     },
     "execution_count": 8,
     "metadata": {},
     "output_type": "execute_result"
    }
   ],
   "source": [
    "widgets.DatePicker(\n",
    "    description='Pick a Date',\n",
    "    disabled=False\n",
    ")"
   ]
  },
  {
   "cell_type": "code",
   "execution_count": 9,
   "id": "fd6bd5e7-ae9d-4b92-8a5a-b8fd421bc375",
   "metadata": {
    "jupyter": {
     "source_hidden": true
    },
    "tags": []
   },
   "outputs": [
    {
     "data": {
      "application/vnd.jupyter.widget-view+json": {
       "model_id": "b4f07283a0704e779544aa110ace6bc1",
       "version_major": 2,
       "version_minor": 0
      },
      "text/plain": [
       "TimePicker(value=None, description='Pick a Time', step=60.0)"
      ]
     },
     "execution_count": 9,
     "metadata": {},
     "output_type": "execute_result"
    }
   ],
   "source": [
    "widgets.TimePicker(\n",
    "    description='Pick a Time',\n",
    "    disabled=False\n",
    ")"
   ]
  },
  {
   "cell_type": "markdown",
   "id": "33116095-147b-4bc3-b880-a987570b3bf0",
   "metadata": {
    "tags": []
   },
   "source": [
    "## Script with Bash"
   ]
  },
  {
   "cell_type": "code",
   "execution_count": 10,
   "id": "18a5af74-594b-4a8d-a77e-d49b410aeb93",
   "metadata": {
    "tags": []
   },
   "outputs": [
    {
     "name": "stdout",
     "output_type": "stream",
     "text": [
      "1: This bash script knows about 7 and 2\n",
      "2: This bash script knows about 7 and 2\n",
      "3: This bash script knows about 7 and 2\n",
      "4: This bash script knows about 7 and 2\n",
      "5: This bash script knows about 7 and 2\n"
     ]
    }
   ],
   "source": [
    "%%bash -s \"$slider.value\" \"$dropD.value\"\n",
    "\n",
    "for i in `echo '1 2 3 4 5'`; do\n",
    "    echo \"$i: This bash script knows about $1 and $2\"\n",
    "done"
   ]
  },
  {
   "cell_type": "code",
   "execution_count": null,
   "id": "02c64898-9853-4586-aa48-56048771b479",
   "metadata": {},
   "outputs": [],
   "source": []
  }
 ],
 "metadata": {
  "kernelspec": {
   "display_name": "Python 3 (ipykernel)",
   "language": "python",
   "name": "python3"
  },
  "language_info": {
   "codemirror_mode": {
    "name": "ipython",
    "version": 3
   },
   "file_extension": ".py",
   "mimetype": "text/x-python",
   "name": "python",
   "nbconvert_exporter": "python",
   "pygments_lexer": "ipython3",
   "version": "3.8.13"
  }
 },
 "nbformat": 4,
 "nbformat_minor": 5
}
